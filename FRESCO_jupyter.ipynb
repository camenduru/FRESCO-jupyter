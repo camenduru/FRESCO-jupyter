{
  "cells": [
    {
      "cell_type": "markdown",
      "metadata": {
        "id": "view-in-github"
      },
      "source": [
        "[![Open In Colab](https://colab.research.google.com/assets/colab-badge.svg)](https://colab.research.google.com/github/camenduru/FRESCO-jupyter/blob/main/FRESCO_jupyter.ipynb)"
      ]
    },
    {
      "cell_type": "code",
      "execution_count": null,
      "metadata": {
        "id": "VjYy0F2gZIPR"
      },
      "outputs": [],
      "source": [
        "%cd /content\n",
        "!git clone -b dev https://github.com/camenduru/FRESCO\n",
        "%cd /content/FRESCO\n",
        "!pip install einops timm diffusers[torch]==0.19.3 gradio==3.50.2 numba==0.57.0\n",
        "!python install.py\n",
        "\n",
        "!rm /content/FRESCO/src/ebsynth/deps/ebsynth/bin/ebsynth\n",
        "!wget https://github.com/camenduru/wheels/releases/download/colab2/ebsynth -O /content/FRESCO/src/ebsynth/deps/ebsynth/bin/ebsynth\n",
        "\n",
        "# %cd /content/FRESCO/src/ebsynth/deps/ebsynth\n",
        "# !nvcc -arch compute_50 src/ebsynth.cpp src/ebsynth_cpu.cpp src/ebsynth_cuda.cu -I\"include\" -DNDEBUG -D__CORRECT_ISO_CPP11_MATH_H_PROTO -O6 -std=c++11 -w -Xcompiler -fopenmp -o bin/ebsynth\n",
        "# !python run_fresco.py ./config/config_music.yaml\n",
        "# !python video_blend.py ./output/car-turn/ --key keys --key_ind 0 5 10 15 20 25 30 35 40 45 50 55 60 65 70 75  --output ./output/car-turn/blend.mp4 --fps 10 --n_proc 4 -ps\n",
        "\n",
        "!python webUI.py"
      ]
    }
  ],
  "metadata": {
    "accelerator": "GPU",
    "colab": {
      "gpuType": "T4",
      "provenance": []
    },
    "kernelspec": {
      "display_name": "Python 3",
      "name": "python3"
    },
    "language_info": {
      "name": "python"
    }
  },
  "nbformat": 4,
  "nbformat_minor": 0
}
